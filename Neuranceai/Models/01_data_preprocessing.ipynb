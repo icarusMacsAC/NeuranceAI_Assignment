{
 "cells": [
  {
   "cell_type": "markdown",
   "id": "d1011bfb",
   "metadata": {},
   "source": [
    "<h1> 1 Installing Libraries </h1>"
   ]
  },
  {
   "cell_type": "code",
   "execution_count": 2,
   "id": "790d4019",
   "metadata": {},
   "outputs": [],
   "source": [
    "import numpy as np\n",
    "import pandas as pd\n",
    "import seaborn as sns\n",
    "import matplotlib.pyplot as plt\n",
    "from subprocess import check_output\n",
    "%matplotlib inline\n",
    "from sklearn.feature_extraction.text import TfidfVectorizer\n",
    "from sklearn.feature_extraction.text import CountVectorizer\n",
    "from sklearn.metrics import mean_squared_error\n",
    "\n",
    "from sklearn.preprocessing import StandardScaler\n",
    "from sklearn.linear_model import SGDClassifier, SGDRegressor\n",
    "\n",
    "import os\n",
    "import gc\n",
    "\n",
    "import re\n",
    "from nltk.corpus import stopwords\n",
    "from nltk.stem import PorterStemmer\n",
    "from bs4 import BeautifulSoup\n",
    "\n",
    "import warnings\n",
    "warnings.filterwarnings(\"ignore\")\n",
    "import numpy as np\n",
    "import pandas as pd\n",
    "import seaborn as sns\n",
    "import matplotlib.pyplot as plt\n",
    "from subprocess import check_output\n",
    "%matplotlib inline\n",
    "import os\n",
    "import gc\n",
    "\n",
    "import re\n",
    "from nltk.corpus import stopwords\n",
    "from nltk.stem import PorterStemmer\n",
    "from bs4 import BeautifulSoup\n",
    "import re\n",
    "from nltk.corpus import stopwords\n",
    "from nltk.stem import PorterStemmer\n",
    "from bs4 import BeautifulSoup\n",
    "from fuzzywuzzy import fuzz\n",
    "from sklearn.manifold import TSNE\n",
    "\n",
    "from os import path\n",
    "from PIL import Image"
   ]
  },
  {
   "cell_type": "code",
   "execution_count": 4,
   "id": "1b257d83",
   "metadata": {},
   "outputs": [
    {
     "data": {
      "text/html": [
       "<div>\n",
       "<style scoped>\n",
       "    .dataframe tbody tr th:only-of-type {\n",
       "        vertical-align: middle;\n",
       "    }\n",
       "\n",
       "    .dataframe tbody tr th {\n",
       "        vertical-align: top;\n",
       "    }\n",
       "\n",
       "    .dataframe thead th {\n",
       "        text-align: right;\n",
       "    }\n",
       "</style>\n",
       "<table border=\"1\" class=\"dataframe\">\n",
       "  <thead>\n",
       "    <tr style=\"text-align: right;\">\n",
       "      <th></th>\n",
       "      <th>patient_id</th>\n",
       "      <th>name_of_drug</th>\n",
       "      <th>use_case_for_drug</th>\n",
       "      <th>review_by_patient</th>\n",
       "      <th>effectiveness_rating</th>\n",
       "      <th>drug_approved_by_UIC</th>\n",
       "      <th>number_of_times_prescribed</th>\n",
       "      <th>base_score</th>\n",
       "    </tr>\n",
       "  </thead>\n",
       "  <tbody>\n",
       "    <tr>\n",
       "      <th>0</th>\n",
       "      <td>206461</td>\n",
       "      <td>Valsartan</td>\n",
       "      <td>Left Ventricular Dysfunction</td>\n",
       "      <td>\"It has no side effect, I take it in combinati...</td>\n",
       "      <td>9</td>\n",
       "      <td>20-May-12</td>\n",
       "      <td>27</td>\n",
       "      <td>8.022969</td>\n",
       "    </tr>\n",
       "    <tr>\n",
       "      <th>1</th>\n",
       "      <td>95260</td>\n",
       "      <td>Guanfacine</td>\n",
       "      <td>ADHD</td>\n",
       "      <td>\"My son is halfway through his fourth week of ...</td>\n",
       "      <td>8</td>\n",
       "      <td>27-Apr-10</td>\n",
       "      <td>192</td>\n",
       "      <td>7.858458</td>\n",
       "    </tr>\n",
       "  </tbody>\n",
       "</table>\n",
       "</div>"
      ],
      "text/plain": [
       "   patient_id name_of_drug             use_case_for_drug  \\\n",
       "0      206461    Valsartan  Left Ventricular Dysfunction   \n",
       "1       95260   Guanfacine                          ADHD   \n",
       "\n",
       "                                   review_by_patient  effectiveness_rating  \\\n",
       "0  \"It has no side effect, I take it in combinati...                     9   \n",
       "1  \"My son is halfway through his fourth week of ...                     8   \n",
       "\n",
       "  drug_approved_by_UIC  number_of_times_prescribed  base_score  \n",
       "0            20-May-12                          27    8.022969  \n",
       "1            27-Apr-10                         192    7.858458  "
      ]
     },
     "execution_count": 4,
     "metadata": {},
     "output_type": "execute_result"
    }
   ],
   "source": [
    "drug_train_data = pd.read_csv(r\"C:\\Users\\user\\OneDrive\\Documents\\Neuranceai\\dataset\\train.csv\")\n",
    "drug_train_data.head(2)  "
   ]
  },
  {
   "cell_type": "code",
   "execution_count": 5,
   "id": "fb660973",
   "metadata": {},
   "outputs": [
    {
     "data": {
      "text/html": [
       "<div>\n",
       "<style scoped>\n",
       "    .dataframe tbody tr th:only-of-type {\n",
       "        vertical-align: middle;\n",
       "    }\n",
       "\n",
       "    .dataframe tbody tr th {\n",
       "        vertical-align: top;\n",
       "    }\n",
       "\n",
       "    .dataframe thead th {\n",
       "        text-align: right;\n",
       "    }\n",
       "</style>\n",
       "<table border=\"1\" class=\"dataframe\">\n",
       "  <thead>\n",
       "    <tr style=\"text-align: right;\">\n",
       "      <th></th>\n",
       "      <th>effectiveness_rating</th>\n",
       "      <th>base_score</th>\n",
       "    </tr>\n",
       "  </thead>\n",
       "  <tbody>\n",
       "    <tr>\n",
       "      <th>0</th>\n",
       "      <td>9</td>\n",
       "      <td>8.022969</td>\n",
       "    </tr>\n",
       "    <tr>\n",
       "      <th>1</th>\n",
       "      <td>8</td>\n",
       "      <td>7.858458</td>\n",
       "    </tr>\n",
       "    <tr>\n",
       "      <th>2</th>\n",
       "      <td>5</td>\n",
       "      <td>6.341969</td>\n",
       "    </tr>\n",
       "    <tr>\n",
       "      <th>3</th>\n",
       "      <td>9</td>\n",
       "      <td>6.590176</td>\n",
       "    </tr>\n",
       "    <tr>\n",
       "      <th>4</th>\n",
       "      <td>2</td>\n",
       "      <td>6.144782</td>\n",
       "    </tr>\n",
       "    <tr>\n",
       "      <th>...</th>\n",
       "      <td>...</td>\n",
       "      <td>...</td>\n",
       "    </tr>\n",
       "    <tr>\n",
       "      <th>32160</th>\n",
       "      <td>9</td>\n",
       "      <td>6.963020</td>\n",
       "    </tr>\n",
       "    <tr>\n",
       "      <th>32161</th>\n",
       "      <td>6</td>\n",
       "      <td>0.899076</td>\n",
       "    </tr>\n",
       "    <tr>\n",
       "      <th>32162</th>\n",
       "      <td>9</td>\n",
       "      <td>6.241812</td>\n",
       "    </tr>\n",
       "    <tr>\n",
       "      <th>32163</th>\n",
       "      <td>8</td>\n",
       "      <td>7.940428</td>\n",
       "    </tr>\n",
       "    <tr>\n",
       "      <th>32164</th>\n",
       "      <td>2</td>\n",
       "      <td>8.205393</td>\n",
       "    </tr>\n",
       "  </tbody>\n",
       "</table>\n",
       "<p>32165 rows × 2 columns</p>\n",
       "</div>"
      ],
      "text/plain": [
       "       effectiveness_rating  base_score\n",
       "0                         9    8.022969\n",
       "1                         8    7.858458\n",
       "2                         5    6.341969\n",
       "3                         9    6.590176\n",
       "4                         2    6.144782\n",
       "...                     ...         ...\n",
       "32160                     9    6.963020\n",
       "32161                     6    0.899076\n",
       "32162                     9    6.241812\n",
       "32163                     8    7.940428\n",
       "32164                     2    8.205393\n",
       "\n",
       "[32165 rows x 2 columns]"
      ]
     },
     "execution_count": 5,
     "metadata": {},
     "output_type": "execute_result"
    }
   ],
   "source": [
    "drug_train_data.loc[:, [\"effectiveness_rating\", \"base_score\"]]"
   ]
  },
  {
   "cell_type": "code",
   "execution_count": 6,
   "id": "8249b9b2",
   "metadata": {},
   "outputs": [
    {
     "name": "stdout",
     "output_type": "stream",
     "text": [
      "Number of data points: 32165\n",
      "Number of Attributes : 8\n"
     ]
    }
   ],
   "source": [
    "print(\"Number of data points:\",drug_train_data.shape[0])\n",
    "\n",
    "# no of records in a dataset  \n",
    "print(\"Number of Attributes :\",drug_train_data.shape[1])"
   ]
  },
  {
   "cell_type": "markdown",
   "id": "e61c3167",
   "metadata": {},
   "source": [
    "Means Our dataset has 32165 record\n",
    "\n",
    "and 8 Columns\n",
    "\n",
    "In Which base_score is our Target variable"
   ]
  },
  {
   "cell_type": "code",
   "execution_count": 7,
   "id": "e6a50fa1",
   "metadata": {},
   "outputs": [
    {
     "data": {
      "text/plain": [
       "10091    1-Apr-08\n",
       "1009     1-Apr-08\n",
       "1050     1-Apr-08\n",
       "13736    1-Apr-08\n",
       "13751    1-Apr-08\n",
       "           ...   \n",
       "920      9-Sep-17\n",
       "1364     9-Sep-17\n",
       "27948    9-Sep-17\n",
       "11170    9-Sep-17\n",
       "13362    9-Sep-17\n",
       "Name: drug_approved_by_UIC, Length: 32165, dtype: object"
      ]
     },
     "execution_count": 7,
     "metadata": {},
     "output_type": "execute_result"
    }
   ],
   "source": [
    "# sort on the basis of \"drug_approved_by_UIC\" coulmn\n",
    "drug_train_data = drug_train_data.sort_values('drug_approved_by_UIC')\n",
    "drug_train_data.loc[:, \"drug_approved_by_UIC\"]"
   ]
  },
  {
   "cell_type": "code",
   "execution_count": 8,
   "id": "2991e875",
   "metadata": {},
   "outputs": [
    {
     "name": "stdout",
     "output_type": "stream",
     "text": [
      "<class 'pandas.core.frame.DataFrame'>\n",
      "Int64Index: 32165 entries, 10091 to 13362\n",
      "Data columns (total 8 columns):\n",
      " #   Column                      Non-Null Count  Dtype  \n",
      "---  ------                      --------------  -----  \n",
      " 0   patient_id                  32165 non-null  int64  \n",
      " 1   name_of_drug                32165 non-null  object \n",
      " 2   use_case_for_drug           32165 non-null  object \n",
      " 3   review_by_patient           32165 non-null  object \n",
      " 4   effectiveness_rating        32165 non-null  int64  \n",
      " 5   drug_approved_by_UIC        32165 non-null  object \n",
      " 6   number_of_times_prescribed  32165 non-null  int64  \n",
      " 7   base_score                  32165 non-null  float64\n",
      "dtypes: float64(1), int64(3), object(4)\n",
      "memory usage: 2.2+ MB\n"
     ]
    }
   ],
   "source": [
    "drug_train_data.info()"
   ]
  },
  {
   "cell_type": "markdown",
   "id": "21ac7953",
   "metadata": {},
   "source": [
    "<h1>2 Analysis of features </h1>"
   ]
  },
  {
   "cell_type": "code",
   "execution_count": 9,
   "id": "867bd4ba",
   "metadata": {},
   "outputs": [
    {
     "data": {
      "text/plain": [
       "<matplotlib.legend.Legend at 0x256b9b3c7c0>"
      ]
     },
     "execution_count": 9,
     "metadata": {},
     "output_type": "execute_result"
    },
    {
     "data": {
      "image/png": "[encoded data removed]",
      "text/plain": [
       "<Figure size 432x288 with 1 Axes>"
      ]
     },
     "metadata": {
      "needs_background": "light"
     },
     "output_type": "display_data"
    }
   ],
   "source": [
    "sns.kdeplot(drug_train_data[\"effectiveness_rating\"], color=\"#7C3794\", label='effectiveness_rating')\n",
    "sns.kdeplot(drug_train_data[\"base_score\"], color=\"#00ff40\", label='base_score')\n",
    "plt.legend()"
   ]
  },
  {
   "cell_type": "code",
   "execution_count": 11,
   "id": "f8375805",
   "metadata": {},
   "outputs": [
    {
     "data": {
      "text/plain": [
       "<AxesSubplot:xlabel='number_of_times_prescribed', ylabel='Count'>"
      ]
     },
     "execution_count": 11,
     "metadata": {},
     "output_type": "execute_result"
    },
    {
     "data": {
      "image/png": "[encoded data removed]",
      "text/plain": [
       "<Figure size 432x288 with 1 Axes>"
      ]
     },
     "metadata": {
      "needs_background": "light"
     },
     "output_type": "display_data"
    }
   ],
   "source": [
    "sns.histplot(drug_train_data[\"number_of_times_prescribed\"], color=\"#7C3794\")"
   ]
  },
  {
   "cell_type": "code",
   "execution_count": 12,
   "id": "43c0da19",
   "metadata": {},
   "outputs": [
    {
     "data": {
      "text/plain": [
       "10091     15\n",
       "1009      19\n",
       "1050     357\n",
       "13736     12\n",
       "13751     11\n",
       "        ... \n",
       "920        4\n",
       "1364       1\n",
       "27948      8\n",
       "11170      5\n",
       "13362     21\n",
       "Name: number_of_times_prescribed, Length: 32165, dtype: int64"
      ]
     },
     "execution_count": 12,
     "metadata": {},
     "output_type": "execute_result"
    }
   ],
   "source": [
    "drug_train_data[\"number_of_times_prescribed\"]"
   ]
  },
  {
   "cell_type": "code",
   "execution_count": 13,
   "id": "1d38b12e",
   "metadata": {},
   "outputs": [
    {
     "data": {
      "text/plain": [
       "<matplotlib.collections.PathCollection at 0x256bb6f0f70>"
      ]
     },
     "execution_count": 13,
     "metadata": {},
     "output_type": "execute_result"
    },
    {
     "data": {
      "image/png": "[encoded data removed]",
      "text/plain": [
       "<Figure size 432x288 with 1 Axes>"
      ]
     },
     "metadata": {
      "needs_background": "light"
     },
     "output_type": "display_data"
    }
   ],
   "source": [
    "plt.scatter(drug_train_data[\"base_score\"], drug_train_data[\"number_of_times_prescribed\"])"
   ]
  },
  {
   "cell_type": "code",
   "execution_count": 14,
   "id": "ad100941",
   "metadata": {},
   "outputs": [
    {
     "data": {
      "image/png": "[encoded data removed]",
      "text/plain": [
       "<Figure size 540x540 with 12 Axes>"
      ]
     },
     "metadata": {},
     "output_type": "display_data"
    }
   ],
   "source": [
    "sns.set_style(\"whitegrid\")\n",
    "sns.pairplot(data = drug_train_data[[\"effectiveness_rating\", \"number_of_times_prescribed\", \"base_score\"]], kind=\"scatter\")\n",
    "plt.show()"
   ]
  },
  {
   "cell_type": "code",
   "execution_count": 15,
   "id": "c9c0c22a",
   "metadata": {},
   "outputs": [],
   "source": [
    "# sns.set_style(\"whitegrid\")\n",
    "# sns.pairplot(data = drug_train_data[[\"effectiveness_rating\", \"number_of_times_prescribed\", \"base_score\"]], kind=\"kde\")\n",
    "# plt.show()"
   ]
  },
  {
   "cell_type": "code",
   "execution_count": 16,
   "id": "edeb2459",
   "metadata": {},
   "outputs": [
    {
     "data": {
      "text/plain": [
       "2220"
      ]
     },
     "execution_count": 16,
     "metadata": {},
     "output_type": "execute_result"
    }
   ],
   "source": [
    "qids = pd.Series(drug_train_data['name_of_drug'].tolist())\n",
    "unique_qs = len(np.unique(qids))\n",
    "unique_qs"
   ]
  },
  {
   "cell_type": "code",
   "execution_count": 17,
   "id": "2cf9004d",
   "metadata": {},
   "outputs": [
    {
     "name": "stdout",
     "output_type": "stream",
     "text": [
      "Total number of  Unique Questions are: 2220\n",
      "\n",
      "Max number of times a single question is repeated: 724\n",
      "\n",
      "Levonorgestrel                                         724\n",
      "Etonogestrel                                           628\n",
      "Ethinyl estradiol / norethindrone                      547\n",
      "Ethinyl estradiol / norgestimate                       425\n",
      "Nexplanon                                              397\n",
      "                                                      ... \n",
      "Pimtrea                                                  1\n",
      "Ogestrel-28                                              1\n",
      "Chlorpheniramine / dextromethorphan / phenylephrine      1\n",
      "Aldara                                                   1\n",
      "Vibramycin                                               1\n",
      "Length: 2220, dtype: int64\n"
     ]
    }
   ],
   "source": [
    "name_of_drug = pd.Series(drug_train_data['name_of_drug'].tolist())\n",
    "unique_drugs = len(np.unique(name_of_drug))\n",
    "print ('Total number of  Unique Questions are: {}\\n'.format(unique_drugs))\n",
    "\n",
    "print ('Max number of times a single question is repeated: {}\\n'.format(max(name_of_drug.value_counts()))) \n",
    "\n",
    "drug_vals=name_of_drug.value_counts()\n",
    "print(drug_vals)\n",
    "\n",
    "drug_vals=drug_vals.values"
   ]
  },
  {
   "cell_type": "code",
   "execution_count": 18,
   "id": "6e607b6c",
   "metadata": {},
   "outputs": [
    {
     "name": "stdout",
     "output_type": "stream",
     "text": [
      "Maximum number of times a single question is repeated: 724\n",
      "\n"
     ]
    },
    {
     "data": {
      "image/png": "[encoded data removed]",
      "text/plain": [
       "<Figure size 1440x720 with 1 Axes>"
      ]
     },
     "metadata": {},
     "output_type": "display_data"
    }
   ],
   "source": [
    "plt.figure(figsize=(20, 10))\n",
    "plt.hist(name_of_drug.value_counts(), bins=160)\n",
    "plt.yscale('log', nonpositive='clip')\n",
    "plt.title('Log-Histogram of question appearance counts')\n",
    "plt.xlabel('Number of occurences of drug name')\n",
    "plt.ylabel('Number of drugs')\n",
    "print ('Maximum number of times a single question is repeated: {}\\n'.format(max(name_of_drug.value_counts()))) "
   ]
  },
  {
   "cell_type": "code",
   "execution_count": 19,
   "id": "76270d1c",
   "metadata": {},
   "outputs": [
    {
     "name": "stdout",
     "output_type": "stream",
     "text": [
      "Total number of  Unique Questions are: 636\n",
      "\n",
      "Max number of times a single question is repeated: 5795\n",
      "\n",
      "Birth Control                                   5795\n",
      "Depression                                      1791\n",
      "Pain                                            1273\n",
      "Anxiety                                         1174\n",
      "Acne                                            1101\n",
      "                                                ... \n",
      "Hypotension                                        1\n",
      "amilial Mediterranean Feve                         1\n",
      "Anemia Associated with Chronic Renal Failure       1\n",
      "Nasal Carriage of Staphylococcus aureus            1\n",
      "Osteolytic Bone Lesions of Multiple Myeloma        1\n",
      "Length: 636, dtype: int64\n"
     ]
    }
   ],
   "source": [
    "use_case_drug = pd.Series(drug_train_data['use_case_for_drug'].tolist())\n",
    "unique_use_case_drugs = len(np.unique(use_case_drug))\n",
    "print ('Total number of  Unique Questions are: {}\\n'.format(unique_use_case_drugs))\n",
    "\n",
    "print ('Max number of times a single question is repeated: {}\\n'.format(max(use_case_drug.value_counts()))) \n",
    "\n",
    "use_case_drug_vals=use_case_drug.value_counts()\n",
    "print(use_case_drug_vals)\n",
    "\n",
    "use_case_drug_vals=use_case_drug_vals.values"
   ]
  },
  {
   "cell_type": "code",
   "execution_count": 20,
   "id": "41816ec7",
   "metadata": {},
   "outputs": [
    {
     "name": "stdout",
     "output_type": "stream",
     "text": [
      "Maximum number of times a single question is repeated: 5795\n",
      "\n"
     ]
    },
    {
     "data": {
      "image/png": "[encoded data removed]",
      "text/plain": [
       "<Figure size 1440x720 with 1 Axes>"
      ]
     },
     "metadata": {},
     "output_type": "display_data"
    }
   ],
   "source": [
    "plt.figure(figsize=(20, 10))\n",
    "plt.hist(use_case_drug.value_counts(), bins=160)\n",
    "plt.yscale('log', nonpositive='clip')\n",
    "plt.title('Log-Histogram of question appearance counts')\n",
    "plt.xlabel('Number of occurences of use case for drug')\n",
    "plt.ylabel('Number of use case for drugs')\n",
    "print ('Maximum number of times a single question is repeated: {}\\n'.format(max(use_case_drug.value_counts()))) "
   ]
  },
  {
   "cell_type": "code",
   "execution_count": 21,
   "id": "3efe5da9",
   "metadata": {},
   "outputs": [
    {
     "data": {
      "text/html": [
       "<div>\n",
       "<style scoped>\n",
       "    .dataframe tbody tr th:only-of-type {\n",
       "        vertical-align: middle;\n",
       "    }\n",
       "\n",
       "    .dataframe tbody tr th {\n",
       "        vertical-align: top;\n",
       "    }\n",
       "\n",
       "    .dataframe thead th {\n",
       "        text-align: right;\n",
       "    }\n",
       "</style>\n",
       "<table border=\"1\" class=\"dataframe\">\n",
       "  <thead>\n",
       "    <tr style=\"text-align: right;\">\n",
       "      <th></th>\n",
       "      <th>patient_id</th>\n",
       "      <th>name_of_drug</th>\n",
       "      <th>use_case_for_drug</th>\n",
       "      <th>review_by_patient</th>\n",
       "      <th>effectiveness_rating</th>\n",
       "      <th>drug_approved_by_UIC</th>\n",
       "      <th>number_of_times_prescribed</th>\n",
       "      <th>base_score</th>\n",
       "      <th>review_len</th>\n",
       "      <th>review_n_words</th>\n",
       "    </tr>\n",
       "  </thead>\n",
       "  <tbody>\n",
       "    <tr>\n",
       "      <th>10091</th>\n",
       "      <td>223808</td>\n",
       "      <td>Depakote ER</td>\n",
       "      <td>Epilepsy</td>\n",
       "      <td>\"After trying 4 different meds this one was th...</td>\n",
       "      <td>8</td>\n",
       "      <td>1-Apr-08</td>\n",
       "      <td>15</td>\n",
       "      <td>7.633384</td>\n",
       "      <td>370</td>\n",
       "      <td>74</td>\n",
       "    </tr>\n",
       "    <tr>\n",
       "      <th>1009</th>\n",
       "      <td>35602</td>\n",
       "      <td>Anexsia</td>\n",
       "      <td>Pain</td>\n",
       "      <td>\"Worked better than Tylenol w/codeine #3 and C...</td>\n",
       "      <td>10</td>\n",
       "      <td>1-Apr-08</td>\n",
       "      <td>19</td>\n",
       "      <td>6.127475</td>\n",
       "      <td>88</td>\n",
       "      <td>14</td>\n",
       "    </tr>\n",
       "  </tbody>\n",
       "</table>\n",
       "</div>"
      ],
      "text/plain": [
       "       patient_id name_of_drug use_case_for_drug  \\\n",
       "10091      223808  Depakote ER          Epilepsy   \n",
       "1009        35602      Anexsia              Pain   \n",
       "\n",
       "                                       review_by_patient  \\\n",
       "10091  \"After trying 4 different meds this one was th...   \n",
       "1009   \"Worked better than Tylenol w/codeine #3 and C...   \n",
       "\n",
       "       effectiveness_rating drug_approved_by_UIC  number_of_times_prescribed  \\\n",
       "10091                     8             1-Apr-08                          15   \n",
       "1009                     10             1-Apr-08                          19   \n",
       "\n",
       "       base_score  review_len  review_n_words  \n",
       "10091    7.633384         370              74  \n",
       "1009     6.127475          88              14  "
      ]
     },
     "execution_count": 21,
     "metadata": {},
     "output_type": "execute_result"
    }
   ],
   "source": [
    "# review_by_patient\n",
    "drug_train_data['review_len'] = drug_train_data['review_by_patient'].str.len()\n",
    "drug_train_data['review_n_words'] = drug_train_data['review_by_patient'].apply(lambda row: len(row.split(\" \")))\n",
    "drug_train_data.head(2) "
   ]
  },
  {
   "cell_type": "markdown",
   "id": "899edf8e",
   "metadata": {
    "colab_type": "text",
    "id": "TWQAzMyWs6HU"
   },
   "source": [
    "<h1>3 Preprocessing of Text </h1>"
   ]
  },
  {
   "cell_type": "markdown",
   "id": "1f4d25b5",
   "metadata": {
    "colab_type": "text",
    "id": "P2_6a1Ils6HV"
   },
   "source": [
    "- Preprocessing:\n",
    "    - Removing html tags \n",
    "    - Removing Punctuations\n",
    "    - Performing stemming\n",
    "    - Removing Stopwords\n",
    "    - Expanding contractions etc."
   ]
  },
  {
   "cell_type": "code",
   "execution_count": 24,
   "id": "b5dff688",
   "metadata": {},
   "outputs": [
    {
     "data": {
      "text/plain": [
       "'after trying 4 different meds this one was the first i was able to tolerate for a longer period  the seizures came under control and all was well  unfortunatly my amonia levels  a very rare side effect but one that you need to be aware of  began to rise to scary levels so i had to quit as soon as possible  however if i had not had this issue i would have gladly stayed on the drug  '"
      ]
     },
     "execution_count": 24,
     "metadata": {},
     "output_type": "execute_result"
    }
   ],
   "source": [
    "# To get the results in 4 decemal points\n",
    "SAFE_DIV = 0.0001 \n",
    "\n",
    "STOP_WORDS = stopwords.words(\"english\")\n",
    "stopword = set(STOP_WORDS)\n",
    "stopword.add(\"said\")\n",
    "stopword.add(\"br\")\n",
    "stopword.add(\" \")\n",
    "stopword.remove(\"not\")\n",
    "stopword.remove(\"no\")\n",
    "\n",
    "\n",
    "def preprocess(x):\n",
    "    x = str(x).lower()\n",
    "    x = x.replace(\",000,000\", \"m\").replace(\",000\", \"k\").replace(\"′\", \"'\").replace(\"’\", \"'\")\\\n",
    "                           .replace(\"won't\", \"will not\").replace(\"cannot\", \"can not\").replace(\"can't\", \"can not\")\\\n",
    "                           .replace(\"n't\", \" not\").replace(\"what's\", \"what is\").replace(\"it's\", \"it is\")\\\n",
    "                           .replace(\"'ve\", \" have\").replace(\"i'm\", \"i am\").replace(\"'re\", \" are\")\\\n",
    "                           .replace(\"he's\", \"he is\").replace(\"she's\", \"she is\").replace(\"'s\", \" own\")\\\n",
    "                           .replace(\"%\", \" percent \").replace(\"₹\", \" rupee \").replace(\"$\", \" dollar \")\\\n",
    "                           .replace(\"€\", \" euro \").replace(\"'ll\", \" will\").replace(\"asap\", \"as soon as possible\")\n",
    "    x = re.sub(r\"([0-9]+)000000\", r\"\\1m\", x)\n",
    "    x = re.sub(r\"([0-9]+)000\", r\"\\1k\", x)\n",
    "    \n",
    "    \n",
    "    porter = PorterStemmer()\n",
    "    pattern = re.compile('\\W')\n",
    "    \n",
    "    if type(x) == type(''):\n",
    "        x = re.sub(pattern, ' ', x)\n",
    "    \n",
    "    \n",
    "    if type(x) == type(''):\n",
    "        x = porter.stem(x)\n",
    "        example1 = BeautifulSoup(x)\n",
    "        x = example1.get_text()\n",
    "               \n",
    "    return x\n",
    "preprocess(drug_train_data['review_by_patient'][10091])"
   ]
  },
  {
   "cell_type": "code",
   "execution_count": 25,
   "id": "617d5102",
   "metadata": {},
   "outputs": [
    {
     "data": {
      "text/html": [
       "<div>\n",
       "<style scoped>\n",
       "    .dataframe tbody tr th:only-of-type {\n",
       "        vertical-align: middle;\n",
       "    }\n",
       "\n",
       "    .dataframe tbody tr th {\n",
       "        vertical-align: top;\n",
       "    }\n",
       "\n",
       "    .dataframe thead th {\n",
       "        text-align: right;\n",
       "    }\n",
       "</style>\n",
       "<table border=\"1\" class=\"dataframe\">\n",
       "  <thead>\n",
       "    <tr style=\"text-align: right;\">\n",
       "      <th></th>\n",
       "      <th>patient_id</th>\n",
       "      <th>name_of_drug</th>\n",
       "      <th>use_case_for_drug</th>\n",
       "      <th>review_by_patient</th>\n",
       "      <th>effectiveness_rating</th>\n",
       "      <th>drug_approved_by_UIC</th>\n",
       "      <th>number_of_times_prescribed</th>\n",
       "      <th>base_score</th>\n",
       "      <th>review_len</th>\n",
       "      <th>review_n_words</th>\n",
       "      <th>review_by_patient_filter</th>\n",
       "      <th>review_by_patient_unique_word</th>\n",
       "    </tr>\n",
       "  </thead>\n",
       "  <tbody>\n",
       "    <tr>\n",
       "      <th>10091</th>\n",
       "      <td>223808</td>\n",
       "      <td>Depakote ER</td>\n",
       "      <td>Epilepsy</td>\n",
       "      <td>\"After trying 4 different meds this one was th...</td>\n",
       "      <td>8</td>\n",
       "      <td>1-Apr-08</td>\n",
       "      <td>15</td>\n",
       "      <td>7.633384</td>\n",
       "      <td>370</td>\n",
       "      <td>74</td>\n",
       "      <td>after trying 4 different meds this one was the...</td>\n",
       "      <td>[one, gladly, stayed, scary, well, seizures, c...</td>\n",
       "    </tr>\n",
       "    <tr>\n",
       "      <th>1009</th>\n",
       "      <td>35602</td>\n",
       "      <td>Anexsia</td>\n",
       "      <td>Pain</td>\n",
       "      <td>\"Worked better than Tylenol w/codeine #3 and C...</td>\n",
       "      <td>10</td>\n",
       "      <td>1-Apr-08</td>\n",
       "      <td>19</td>\n",
       "      <td>6.127475</td>\n",
       "      <td>88</td>\n",
       "      <td>14</td>\n",
       "      <td>worked better than tylenol w codeine  3 and ca...</td>\n",
       "      <td>[w, tylenol, 3, better, pain, carisoprodol, wo...</td>\n",
       "    </tr>\n",
       "  </tbody>\n",
       "</table>\n",
       "</div>"
      ],
      "text/plain": [
       "       patient_id name_of_drug use_case_for_drug  \\\n",
       "10091      223808  Depakote ER          Epilepsy   \n",
       "1009        35602      Anexsia              Pain   \n",
       "\n",
       "                                       review_by_patient  \\\n",
       "10091  \"After trying 4 different meds this one was th...   \n",
       "1009   \"Worked better than Tylenol w/codeine #3 and C...   \n",
       "\n",
       "       effectiveness_rating drug_approved_by_UIC  number_of_times_prescribed  \\\n",
       "10091                     8             1-Apr-08                          15   \n",
       "1009                     10             1-Apr-08                          19   \n",
       "\n",
       "       base_score  review_len  review_n_words  \\\n",
       "10091    7.633384         370              74   \n",
       "1009     6.127475          88              14   \n",
       "\n",
       "                                review_by_patient_filter  \\\n",
       "10091  after trying 4 different meds this one was the...   \n",
       "1009   worked better than tylenol w codeine  3 and ca...   \n",
       "\n",
       "                           review_by_patient_unique_word  \n",
       "10091  [one, gladly, stayed, scary, well, seizures, c...  \n",
       "1009   [w, tylenol, 3, better, pain, carisoprodol, wo...  "
      ]
     },
     "execution_count": 25,
     "metadata": {},
     "output_type": "execute_result"
    }
   ],
   "source": [
    "drug_train_data[\"review_by_patient_filter\"] = drug_train_data['review_by_patient'].fillna(\"\").apply(preprocess)\n",
    "drug_train_data[\"review_by_patient_unique_word\"] = drug_train_data['review_by_patient_filter'].apply(lambda row: list(set([word for word in row.split() if word not in stopword])))\n",
    "drug_train_data.head(2)"
   ]
  },
  {
   "cell_type": "code",
   "execution_count": 26,
   "id": "935874bd",
   "metadata": {},
   "outputs": [],
   "source": [
    "drug_train_data[\"len_review_by_patient_unique_word\"] = [len(ele) for ele in list(drug_train_data[\"review_by_patient_unique_word\"])]\n",
    "# plt.figure(figsize=(40, 20))\n",
    "# plt.scatter(drug_train_data[\"base_score\"], [len(ele) for ele in list(drug_train_data[\"review_by_patient_unique_word\"])], s=1)"
   ]
  },
  {
   "cell_type": "code",
   "execution_count": 27,
   "id": "2d509bae",
   "metadata": {},
   "outputs": [],
   "source": [
    "# sns.FacetGrid(drug_train_data[[\"len_review_by_patient_unique_word\", \"effectiveness_rating\"]], hue=\"effectiveness_rating\", height=5).map(sns.distplot, \"len_review_by_patient_unique_word\").add_legend()\n",
    "# plt.show()"
   ]
  },
  {
   "cell_type": "code",
   "execution_count": 28,
   "id": "5377406e",
   "metadata": {},
   "outputs": [
    {
     "name": "stdout",
     "output_type": "stream",
     "text": [
      "rating 0 mean words --> nan\n",
      "rating 1 mean words --> 15.240745052386496\n",
      "rating 2 mean words --> 16.088607594936708\n",
      "rating 3 mean words --> 15.783741120757695\n",
      "rating 4 mean words --> 15.737154150197629\n",
      "rating 5 mean words --> 16.80392156862745\n",
      "rating 6 mean words --> 20.187742435996896\n",
      "rating 7 mean words --> 23.141921397379914\n",
      "rating 8 mean words --> 29.1040676175383\n",
      "rating 9 mean words --> 34.34905139067968\n",
      "rating 10 mean words --> 37.189816621147095\n"
     ]
    }
   ],
   "source": [
    "for i in range(0, 11):\n",
    "    print(f'rating {i} mean words --> {drug_train_data[drug_train_data[\"effectiveness_rating\"] == i].number_of_times_prescribed.mean()}')"
   ]
  },
  {
   "cell_type": "code",
   "execution_count": 29,
   "id": "a62e4f80",
   "metadata": {},
   "outputs": [
    {
     "name": "stdout",
     "output_type": "stream",
     "text": [
      "rating 0 mean words --> nan\n",
      "rating 1 mean words --> 431.43888242142026\n",
      "rating 2 mean words --> 456.8762306610408\n",
      "rating 3 mean words --> 463.4719810576164\n",
      "rating 4 mean words --> 454.0128458498024\n",
      "rating 5 mean words --> 468.7153700189753\n",
      "rating 6 mean words --> 473.2498060512025\n",
      "rating 7 mean words --> 482.8700873362445\n",
      "rating 8 mean words --> 482.4675118858954\n",
      "rating 9 mean words --> 472.6468962976607\n",
      "rating 10 mean words --> 443.8285212641436\n"
     ]
    }
   ],
   "source": [
    "for i in range(0, 11):\n",
    "    print(f'rating {i} mean words --> {drug_train_data[drug_train_data[\"effectiveness_rating\"] == i].review_len.mean()}')"
   ]
  },
  {
   "cell_type": "code",
   "execution_count": 30,
   "id": "dcaff2e5",
   "metadata": {},
   "outputs": [
    {
     "name": "stdout",
     "output_type": "stream",
     "text": [
      "rating 0 mean words --> nan\n",
      "rating 1 mean words --> 80.23166472642608\n",
      "rating 2 mean words --> 84.82700421940929\n",
      "rating 3 mean words --> 86.24625098658248\n",
      "rating 4 mean words --> 84.63142292490119\n",
      "rating 5 mean words --> 87.05502846299811\n",
      "rating 6 mean words --> 88.277734678045\n",
      "rating 7 mean words --> 90.1457423580786\n",
      "rating 8 mean words --> 89.92525092445854\n",
      "rating 9 mean words --> 88.15490882298766\n",
      "rating 10 mean words --> 83.24473273507608\n"
     ]
    }
   ],
   "source": [
    "for i in range(0, 11):\n",
    "    print(f'rating {i} mean words --> {drug_train_data[drug_train_data[\"effectiveness_rating\"] == i].review_n_words.mean()}')"
   ]
  },
  {
   "cell_type": "code",
   "execution_count": 31,
   "id": "0b2e5bdc",
   "metadata": {},
   "outputs": [
    {
     "name": "stdout",
     "output_type": "stream",
     "text": [
      "rating 0 mean words --> nan\n",
      "rating 1 mean words --> 36.57951105937136\n",
      "rating 2 mean words --> 38.70604781997187\n",
      "rating 3 mean words --> 38.767166535122335\n",
      "rating 4 mean words --> 38.3201581027668\n",
      "rating 5 mean words --> 39.350411132194814\n",
      "rating 6 mean words --> 40.01086113266098\n",
      "rating 7 mean words --> 40.54093886462882\n",
      "rating 8 mean words --> 40.561278394083466\n",
      "rating 9 mean words --> 39.830355498250135\n",
      "rating 10 mean words --> 37.838470542333205\n"
     ]
    }
   ],
   "source": [
    "for i in range(0, 11):\n",
    "    print(f'rating {i} mean words --> {drug_train_data[drug_train_data[\"effectiveness_rating\"] == i].len_review_by_patient_unique_word.mean()}')"
   ]
  },
  {
   "cell_type": "code",
   "execution_count": 32,
   "id": "19af6345",
   "metadata": {},
   "outputs": [],
   "source": [
    "drug_train_data.to_csv(\"drug_preprocess.csv\")"
   ]
  },
  {
   "cell_type": "code",
   "execution_count": 33,
   "id": "9cef8026",
   "metadata": {},
   "outputs": [
    {
     "data": {
      "text/html": [
       "<div>\n",
       "<style scoped>\n",
       "    .dataframe tbody tr th:only-of-type {\n",
       "        vertical-align: middle;\n",
       "    }\n",
       "\n",
       "    .dataframe tbody tr th {\n",
       "        vertical-align: top;\n",
       "    }\n",
       "\n",
       "    .dataframe thead th {\n",
       "        text-align: right;\n",
       "    }\n",
       "</style>\n",
       "<table border=\"1\" class=\"dataframe\">\n",
       "  <thead>\n",
       "    <tr style=\"text-align: right;\">\n",
       "      <th></th>\n",
       "      <th>patient_id</th>\n",
       "      <th>name_of_drug</th>\n",
       "      <th>use_case_for_drug</th>\n",
       "      <th>review_by_patient</th>\n",
       "      <th>effectiveness_rating</th>\n",
       "      <th>drug_approved_by_UIC</th>\n",
       "      <th>number_of_times_prescribed</th>\n",
       "      <th>base_score</th>\n",
       "      <th>review_len</th>\n",
       "      <th>review_n_words</th>\n",
       "      <th>review_by_patient_filter</th>\n",
       "      <th>review_by_patient_unique_word</th>\n",
       "      <th>len_review_by_patient_unique_word</th>\n",
       "    </tr>\n",
       "  </thead>\n",
       "  <tbody>\n",
       "    <tr>\n",
       "      <th>10091</th>\n",
       "      <td>223808</td>\n",
       "      <td>Depakote ER</td>\n",
       "      <td>Epilepsy</td>\n",
       "      <td>\"After trying 4 different meds this one was th...</td>\n",
       "      <td>8</td>\n",
       "      <td>1-Apr-08</td>\n",
       "      <td>15</td>\n",
       "      <td>7.633384</td>\n",
       "      <td>370</td>\n",
       "      <td>74</td>\n",
       "      <td>after trying 4 different meds this one was the...</td>\n",
       "      <td>[one, gladly, stayed, scary, well, seizures, c...</td>\n",
       "      <td>35</td>\n",
       "    </tr>\n",
       "    <tr>\n",
       "      <th>1009</th>\n",
       "      <td>35602</td>\n",
       "      <td>Anexsia</td>\n",
       "      <td>Pain</td>\n",
       "      <td>\"Worked better than Tylenol w/codeine #3 and C...</td>\n",
       "      <td>10</td>\n",
       "      <td>1-Apr-08</td>\n",
       "      <td>19</td>\n",
       "      <td>6.127475</td>\n",
       "      <td>88</td>\n",
       "      <td>14</td>\n",
       "      <td>worked better than tylenol w codeine  3 and ca...</td>\n",
       "      <td>[w, tylenol, 3, better, pain, carisoprodol, wo...</td>\n",
       "      <td>10</td>\n",
       "    </tr>\n",
       "  </tbody>\n",
       "</table>\n",
       "</div>"
      ],
      "text/plain": [
       "       patient_id name_of_drug use_case_for_drug  \\\n",
       "10091      223808  Depakote ER          Epilepsy   \n",
       "1009        35602      Anexsia              Pain   \n",
       "\n",
       "                                       review_by_patient  \\\n",
       "10091  \"After trying 4 different meds this one was th...   \n",
       "1009   \"Worked better than Tylenol w/codeine #3 and C...   \n",
       "\n",
       "       effectiveness_rating drug_approved_by_UIC  number_of_times_prescribed  \\\n",
       "10091                     8             1-Apr-08                          15   \n",
       "1009                     10             1-Apr-08                          19   \n",
       "\n",
       "       base_score  review_len  review_n_words  \\\n",
       "10091    7.633384         370              74   \n",
       "1009     6.127475          88              14   \n",
       "\n",
       "                                review_by_patient_filter  \\\n",
       "10091  after trying 4 different meds this one was the...   \n",
       "1009   worked better than tylenol w codeine  3 and ca...   \n",
       "\n",
       "                           review_by_patient_unique_word  \\\n",
       "10091  [one, gladly, stayed, scary, well, seizures, c...   \n",
       "1009   [w, tylenol, 3, better, pain, carisoprodol, wo...   \n",
       "\n",
       "       len_review_by_patient_unique_word  \n",
       "10091                                 35  \n",
       "1009                                  10  "
      ]
     },
     "execution_count": 33,
     "metadata": {},
     "output_type": "execute_result"
    }
   ],
   "source": [
    "drug_train_data.head(2)"
   ]
  },
  {
   "cell_type": "markdown",
   "id": "86640877",
   "metadata": {
    "colab_type": "text",
    "id": "TWQAzMyWs6HU"
   },
   "source": [
    "<h1>4 Test Data </h1>"
   ]
  },
  {
   "cell_type": "code",
   "execution_count": 34,
   "id": "757e0b40",
   "metadata": {},
   "outputs": [
    {
     "data": {
      "text/html": [
       "<div>\n",
       "<style scoped>\n",
       "    .dataframe tbody tr th:only-of-type {\n",
       "        vertical-align: middle;\n",
       "    }\n",
       "\n",
       "    .dataframe tbody tr th {\n",
       "        vertical-align: top;\n",
       "    }\n",
       "\n",
       "    .dataframe thead th {\n",
       "        text-align: right;\n",
       "    }\n",
       "</style>\n",
       "<table border=\"1\" class=\"dataframe\">\n",
       "  <thead>\n",
       "    <tr style=\"text-align: right;\">\n",
       "      <th></th>\n",
       "      <th>patient_id</th>\n",
       "      <th>name_of_drug</th>\n",
       "      <th>review_by_patient</th>\n",
       "      <th>drug_approved_by_UIC</th>\n",
       "      <th>number_of_times_prescribed</th>\n",
       "      <th>use_case_for_drug</th>\n",
       "      <th>effectiveness_rating</th>\n",
       "    </tr>\n",
       "  </thead>\n",
       "  <tbody>\n",
       "    <tr>\n",
       "      <th>0</th>\n",
       "      <td>163740</td>\n",
       "      <td>Mirtazapine</td>\n",
       "      <td>\"I&amp;#039;ve tried a few antidepressants over th...</td>\n",
       "      <td>28-Feb-12</td>\n",
       "      <td>22</td>\n",
       "      <td>Depression</td>\n",
       "      <td>10</td>\n",
       "    </tr>\n",
       "    <tr>\n",
       "      <th>1</th>\n",
       "      <td>39293</td>\n",
       "      <td>Contrave</td>\n",
       "      <td>\"Contrave combines drugs that were used for al...</td>\n",
       "      <td>5-Mar-17</td>\n",
       "      <td>35</td>\n",
       "      <td>Weight Loss</td>\n",
       "      <td>9</td>\n",
       "    </tr>\n",
       "  </tbody>\n",
       "</table>\n",
       "</div>"
      ],
      "text/plain": [
       "   patient_id name_of_drug                                  review_by_patient  \\\n",
       "0      163740  Mirtazapine  \"I&#039;ve tried a few antidepressants over th...   \n",
       "1       39293     Contrave  \"Contrave combines drugs that were used for al...   \n",
       "\n",
       "  drug_approved_by_UIC  number_of_times_prescribed use_case_for_drug  \\\n",
       "0            28-Feb-12                          22        Depression   \n",
       "1             5-Mar-17                          35       Weight Loss   \n",
       "\n",
       "   effectiveness_rating  \n",
       "0                    10  \n",
       "1                     9  "
      ]
     },
     "execution_count": 34,
     "metadata": {},
     "output_type": "execute_result"
    }
   ],
   "source": [
    "drug_test_data = pd.read_csv(r\"C:\\Users\\user\\OneDrive\\Documents\\Neuranceai\\dataset\\test.csv\")\n",
    "drug_test_data.head(2)  "
   ]
  },
  {
   "cell_type": "code",
   "execution_count": 44,
   "id": "3e36d4a0",
   "metadata": {},
   "outputs": [
    {
     "data": {
      "text/html": [
       "<div>\n",
       "<style scoped>\n",
       "    .dataframe tbody tr th:only-of-type {\n",
       "        vertical-align: middle;\n",
       "    }\n",
       "\n",
       "    .dataframe tbody tr th {\n",
       "        vertical-align: top;\n",
       "    }\n",
       "\n",
       "    .dataframe thead th {\n",
       "        text-align: right;\n",
       "    }\n",
       "</style>\n",
       "<table border=\"1\" class=\"dataframe\">\n",
       "  <thead>\n",
       "    <tr style=\"text-align: right;\">\n",
       "      <th></th>\n",
       "      <th>patient_id</th>\n",
       "      <th>name_of_drug</th>\n",
       "      <th>review_by_patient</th>\n",
       "      <th>drug_approved_by_UIC</th>\n",
       "      <th>number_of_times_prescribed</th>\n",
       "      <th>use_case_for_drug</th>\n",
       "      <th>effectiveness_rating</th>\n",
       "      <th>review_by_patient_filter</th>\n",
       "      <th>review_by_patient_unique_word</th>\n",
       "      <th>len_review_by_patient_unique_word</th>\n",
       "      <th>review_len</th>\n",
       "      <th>review_n_words</th>\n",
       "    </tr>\n",
       "  </thead>\n",
       "  <tbody>\n",
       "    <tr>\n",
       "      <th>0</th>\n",
       "      <td>163740</td>\n",
       "      <td>Mirtazapine</td>\n",
       "      <td>\"I&amp;#039;ve tried a few antidepressants over th...</td>\n",
       "      <td>28-Feb-12</td>\n",
       "      <td>22</td>\n",
       "      <td>Depression</td>\n",
       "      <td>10</td>\n",
       "      <td>i  039 ve tried a few antidepressants over the...</td>\n",
       "      <td>[insomnia, changed, tried, actually, effects, ...</td>\n",
       "      <td>36</td>\n",
       "      <td>439</td>\n",
       "      <td>68</td>\n",
       "    </tr>\n",
       "    <tr>\n",
       "      <th>1</th>\n",
       "      <td>39293</td>\n",
       "      <td>Contrave</td>\n",
       "      <td>\"Contrave combines drugs that were used for al...</td>\n",
       "      <td>5-Mar-17</td>\n",
       "      <td>35</td>\n",
       "      <td>Weight Loss</td>\n",
       "      <td>9</td>\n",
       "      <td>contrave combines drugs that were used for alc...</td>\n",
       "      <td>[work, want, contrave, know, obesity, habits, ...</td>\n",
       "      <td>62</td>\n",
       "      <td>782</td>\n",
       "      <td>143</td>\n",
       "    </tr>\n",
       "  </tbody>\n",
       "</table>\n",
       "</div>"
      ],
      "text/plain": [
       "   patient_id name_of_drug                                  review_by_patient  \\\n",
       "0      163740  Mirtazapine  \"I&#039;ve tried a few antidepressants over th...   \n",
       "1       39293     Contrave  \"Contrave combines drugs that were used for al...   \n",
       "\n",
       "  drug_approved_by_UIC  number_of_times_prescribed use_case_for_drug  \\\n",
       "0            28-Feb-12                          22        Depression   \n",
       "1             5-Mar-17                          35       Weight Loss   \n",
       "\n",
       "   effectiveness_rating                           review_by_patient_filter  \\\n",
       "0                    10  i  039 ve tried a few antidepressants over the...   \n",
       "1                     9  contrave combines drugs that were used for alc...   \n",
       "\n",
       "                       review_by_patient_unique_word  \\\n",
       "0  [insomnia, changed, tried, actually, effects, ...   \n",
       "1  [work, want, contrave, know, obesity, habits, ...   \n",
       "\n",
       "   len_review_by_patient_unique_word  review_len  review_n_words  \n",
       "0                                 36         439              68  \n",
       "1                                 62         782             143  "
      ]
     },
     "execution_count": 44,
     "metadata": {},
     "output_type": "execute_result"
    }
   ],
   "source": [
    "# review_by_patient\n",
    "drug_test_data['review_len'] = drug_test_data['review_by_patient'].str.len()\n",
    "drug_test_data['review_n_words'] = drug_test_data['review_by_patient'].apply(lambda row: len(row.split(\" \")))\n",
    "drug_test_data.head(2)"
   ]
  },
  {
   "cell_type": "code",
   "execution_count": 45,
   "id": "da0a1a27",
   "metadata": {},
   "outputs": [
    {
     "data": {
      "text/html": [
       "<div>\n",
       "<style scoped>\n",
       "    .dataframe tbody tr th:only-of-type {\n",
       "        vertical-align: middle;\n",
       "    }\n",
       "\n",
       "    .dataframe tbody tr th {\n",
       "        vertical-align: top;\n",
       "    }\n",
       "\n",
       "    .dataframe thead th {\n",
       "        text-align: right;\n",
       "    }\n",
       "</style>\n",
       "<table border=\"1\" class=\"dataframe\">\n",
       "  <thead>\n",
       "    <tr style=\"text-align: right;\">\n",
       "      <th></th>\n",
       "      <th>patient_id</th>\n",
       "      <th>name_of_drug</th>\n",
       "      <th>review_by_patient</th>\n",
       "      <th>drug_approved_by_UIC</th>\n",
       "      <th>number_of_times_prescribed</th>\n",
       "      <th>use_case_for_drug</th>\n",
       "      <th>effectiveness_rating</th>\n",
       "      <th>review_by_patient_filter</th>\n",
       "      <th>review_by_patient_unique_word</th>\n",
       "      <th>len_review_by_patient_unique_word</th>\n",
       "      <th>review_len</th>\n",
       "      <th>review_n_words</th>\n",
       "    </tr>\n",
       "  </thead>\n",
       "  <tbody>\n",
       "    <tr>\n",
       "      <th>0</th>\n",
       "      <td>163740</td>\n",
       "      <td>Mirtazapine</td>\n",
       "      <td>\"I&amp;#039;ve tried a few antidepressants over th...</td>\n",
       "      <td>28-Feb-12</td>\n",
       "      <td>22</td>\n",
       "      <td>Depression</td>\n",
       "      <td>10</td>\n",
       "      <td>i  039 ve tried a few antidepressants over the...</td>\n",
       "      <td>[insomnia, changed, tried, actually, effects, ...</td>\n",
       "      <td>36</td>\n",
       "      <td>439</td>\n",
       "      <td>68</td>\n",
       "    </tr>\n",
       "    <tr>\n",
       "      <th>1</th>\n",
       "      <td>39293</td>\n",
       "      <td>Contrave</td>\n",
       "      <td>\"Contrave combines drugs that were used for al...</td>\n",
       "      <td>5-Mar-17</td>\n",
       "      <td>35</td>\n",
       "      <td>Weight Loss</td>\n",
       "      <td>9</td>\n",
       "      <td>contrave combines drugs that were used for alc...</td>\n",
       "      <td>[work, want, contrave, know, obesity, habits, ...</td>\n",
       "      <td>62</td>\n",
       "      <td>782</td>\n",
       "      <td>143</td>\n",
       "    </tr>\n",
       "  </tbody>\n",
       "</table>\n",
       "</div>"
      ],
      "text/plain": [
       "   patient_id name_of_drug                                  review_by_patient  \\\n",
       "0      163740  Mirtazapine  \"I&#039;ve tried a few antidepressants over th...   \n",
       "1       39293     Contrave  \"Contrave combines drugs that were used for al...   \n",
       "\n",
       "  drug_approved_by_UIC  number_of_times_prescribed use_case_for_drug  \\\n",
       "0            28-Feb-12                          22        Depression   \n",
       "1             5-Mar-17                          35       Weight Loss   \n",
       "\n",
       "   effectiveness_rating                           review_by_patient_filter  \\\n",
       "0                    10  i  039 ve tried a few antidepressants over the...   \n",
       "1                     9  contrave combines drugs that were used for alc...   \n",
       "\n",
       "                       review_by_patient_unique_word  \\\n",
       "0  [insomnia, changed, tried, actually, effects, ...   \n",
       "1  [work, want, contrave, know, obesity, habits, ...   \n",
       "\n",
       "   len_review_by_patient_unique_word  review_len  review_n_words  \n",
       "0                                 36         439              68  \n",
       "1                                 62         782             143  "
      ]
     },
     "execution_count": 45,
     "metadata": {},
     "output_type": "execute_result"
    }
   ],
   "source": [
    "drug_test_data[\"review_by_patient_filter\"] = drug_test_data['review_by_patient'].fillna(\"\").apply(preprocess)\n",
    "drug_test_data[\"review_by_patient_unique_word\"] = drug_test_data['review_by_patient_filter'].apply(lambda row: list(set([word for word in row.split() if word not in stopword])))\n",
    "drug_test_data.head(2)"
   ]
  },
  {
   "cell_type": "code",
   "execution_count": 46,
   "id": "918152a4",
   "metadata": {},
   "outputs": [],
   "source": [
    "drug_test_data[\"len_review_by_patient_unique_word\"] = [len(ele) for ele in list(drug_test_data[\"review_by_patient_unique_word\"])]\n",
    "# plt.figure(figsize=(40, 20))\n",
    "# plt.scatter(drug_train_data[\"base_score\"], [len(ele) for ele in list(drug_train_data[\"review_by_patient_unique_word\"])], s=1)"
   ]
  },
  {
   "cell_type": "code",
   "execution_count": 47,
   "id": "100bef08",
   "metadata": {},
   "outputs": [
    {
     "data": {
      "text/plain": [
       "((32165, 13), (10760, 12))"
      ]
     },
     "execution_count": 47,
     "metadata": {},
     "output_type": "execute_result"
    }
   ],
   "source": [
    "drug_train_data.shape, drug_test_data.shape"
   ]
  },
  {
   "cell_type": "code",
   "execution_count": 48,
   "id": "31bef48e",
   "metadata": {},
   "outputs": [
    {
     "data": {
      "text/html": [
       "<div>\n",
       "<style scoped>\n",
       "    .dataframe tbody tr th:only-of-type {\n",
       "        vertical-align: middle;\n",
       "    }\n",
       "\n",
       "    .dataframe tbody tr th {\n",
       "        vertical-align: top;\n",
       "    }\n",
       "\n",
       "    .dataframe thead th {\n",
       "        text-align: right;\n",
       "    }\n",
       "</style>\n",
       "<table border=\"1\" class=\"dataframe\">\n",
       "  <thead>\n",
       "    <tr style=\"text-align: right;\">\n",
       "      <th></th>\n",
       "      <th>patient_id</th>\n",
       "      <th>name_of_drug</th>\n",
       "      <th>review_by_patient</th>\n",
       "      <th>drug_approved_by_UIC</th>\n",
       "      <th>number_of_times_prescribed</th>\n",
       "      <th>use_case_for_drug</th>\n",
       "      <th>effectiveness_rating</th>\n",
       "      <th>review_by_patient_filter</th>\n",
       "      <th>review_by_patient_unique_word</th>\n",
       "      <th>len_review_by_patient_unique_word</th>\n",
       "      <th>review_len</th>\n",
       "      <th>review_n_words</th>\n",
       "    </tr>\n",
       "  </thead>\n",
       "  <tbody>\n",
       "    <tr>\n",
       "      <th>0</th>\n",
       "      <td>163740</td>\n",
       "      <td>Mirtazapine</td>\n",
       "      <td>\"I&amp;#039;ve tried a few antidepressants over th...</td>\n",
       "      <td>28-Feb-12</td>\n",
       "      <td>22</td>\n",
       "      <td>Depression</td>\n",
       "      <td>10</td>\n",
       "      <td>i  039 ve tried a few antidepressants over the...</td>\n",
       "      <td>[insomnia, changed, tried, actually, effects, ...</td>\n",
       "      <td>36</td>\n",
       "      <td>439</td>\n",
       "      <td>68</td>\n",
       "    </tr>\n",
       "    <tr>\n",
       "      <th>1</th>\n",
       "      <td>39293</td>\n",
       "      <td>Contrave</td>\n",
       "      <td>\"Contrave combines drugs that were used for al...</td>\n",
       "      <td>5-Mar-17</td>\n",
       "      <td>35</td>\n",
       "      <td>Weight Loss</td>\n",
       "      <td>9</td>\n",
       "      <td>contrave combines drugs that were used for alc...</td>\n",
       "      <td>[work, want, contrave, know, obesity, habits, ...</td>\n",
       "      <td>62</td>\n",
       "      <td>782</td>\n",
       "      <td>143</td>\n",
       "    </tr>\n",
       "  </tbody>\n",
       "</table>\n",
       "</div>"
      ],
      "text/plain": [
       "   patient_id name_of_drug                                  review_by_patient  \\\n",
       "0      163740  Mirtazapine  \"I&#039;ve tried a few antidepressants over th...   \n",
       "1       39293     Contrave  \"Contrave combines drugs that were used for al...   \n",
       "\n",
       "  drug_approved_by_UIC  number_of_times_prescribed use_case_for_drug  \\\n",
       "0            28-Feb-12                          22        Depression   \n",
       "1             5-Mar-17                          35       Weight Loss   \n",
       "\n",
       "   effectiveness_rating                           review_by_patient_filter  \\\n",
       "0                    10  i  039 ve tried a few antidepressants over the...   \n",
       "1                     9  contrave combines drugs that were used for alc...   \n",
       "\n",
       "                       review_by_patient_unique_word  \\\n",
       "0  [insomnia, changed, tried, actually, effects, ...   \n",
       "1  [work, want, contrave, know, obesity, habits, ...   \n",
       "\n",
       "   len_review_by_patient_unique_word  review_len  review_n_words  \n",
       "0                                 36         439              68  \n",
       "1                                 62         782             143  "
      ]
     },
     "execution_count": 48,
     "metadata": {},
     "output_type": "execute_result"
    }
   ],
   "source": [
    "drug_test_data.head(2)"
   ]
  },
  {
   "cell_type": "code",
   "execution_count": 49,
   "id": "62b4869f",
   "metadata": {},
   "outputs": [],
   "source": [
    "drug_test_data.to_csv(\"drug_test_preprocess.csv\")"
   ]
  },
  {
   "cell_type": "code",
   "execution_count": null,
   "id": "0a060a0f",
   "metadata": {},
   "outputs": [],
   "source": []
  },
  {
   "cell_type": "code",
   "execution_count": null,
   "id": "12784f7b",
   "metadata": {},
   "outputs": [],
   "source": []
  },
  {
   "cell_type": "code",
   "execution_count": null,
   "id": "1d2bdef7",
   "metadata": {},
   "outputs": [],
   "source": []
  },
  {
   "cell_type": "code",
   "execution_count": null,
   "id": "8a94b529",
   "metadata": {},
   "outputs": [],
   "source": []
  },
  {
   "cell_type": "code",
   "execution_count": null,
   "id": "20f48af8",
   "metadata": {},
   "outputs": [],
   "source": []
  },
  {
   "cell_type": "code",
   "execution_count": null,
   "id": "7d23f917",
   "metadata": {},
   "outputs": [],
   "source": []
  },
  {
   "cell_type": "code",
   "execution_count": null,
   "id": "53e87048",
   "metadata": {},
   "outputs": [],
   "source": []
  }
 ],
 "metadata": {
  "kernelspec": {
   "display_name": "Python 3 (ipykernel)",
   "language": "python",
   "name": "python3"
  },
  "language_info": {
   "codemirror_mode": {
    "name": "ipython",
    "version": 3
   },
   "file_extension": ".py",
   "mimetype": "text/x-python",
   "name": "python",
   "nbconvert_exporter": "python",
   "pygments_lexer": "ipython3",
   "version": "3.9.7"
  }
 },
 "nbformat": 4,
 "nbformat_minor": 5
}
